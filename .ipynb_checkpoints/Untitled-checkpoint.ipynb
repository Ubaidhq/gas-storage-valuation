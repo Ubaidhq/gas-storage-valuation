{
 "cells": [
  {
   "cell_type": "markdown",
   "id": "104485da",
   "metadata": {},
   "source": [
    "# Gas Storage Valuation using a Multi-Factor Least Squares Monte Carlo model"
   ]
  },
  {
   "cell_type": "markdown",
   "id": "6e416b05",
   "metadata": {},
   "source": [
    "## Imports\n"
   ]
  },
  {
   "cell_type": "code",
   "execution_count": 260,
   "id": "a4e02515",
   "metadata": {},
   "outputs": [],
   "source": [
    "import pandas as pd\n",
    "import matplotlib.pyplot as plt\n",
    "import matplotlib.dates as mdates\n",
    "import numpy as np\n",
    "from cmdty_storage import CmdtyStorage, three_factor_seasonal_value, SimulationDataReturned,\\\n",
    "value_from_sims"
   ]
  },
  {
   "cell_type": "code",
   "execution_count": 305,
   "id": "8f59671e",
   "metadata": {},
   "outputs": [
    {
     "name": "stdout",
     "output_type": "stream",
     "text": [
      "Would you like to save the plots generated? Y/NY\n",
      "Interactive plot mode enabled.\n"
     ]
    }
   ],
   "source": [
    "is_save_plots = input(\"Would you like to save the plots generated? Y/N\")\n",
    "if is_save_plots == 'Y':\n",
    "    %matplotlib qt  \n",
    "    print(\"Interactive plot mode enabled.\")\n",
    "elif is_save_plots == 'N':\n",
    "    %matplotlib inline\n",
    "    print(\"Inline plot mode enabled.\")\n",
    "else:\n",
    "    print(\"Invalid input. Defaulting to inline plots.\")\n",
    "    %matplotlib inline"
   ]
  },
  {
   "cell_type": "markdown",
   "id": "42af670c",
   "metadata": {},
   "source": [
    "## Data Load\n"
   ]
  },
  {
   "cell_type": "code",
   "execution_count": 262,
   "id": "d9bb784b",
   "metadata": {},
   "outputs": [],
   "source": [
    "CSV_FILE = \"Storage parameters.csv\""
   ]
  },
  {
   "cell_type": "code",
   "execution_count": 263,
   "id": "dfecf9ef",
   "metadata": {},
   "outputs": [],
   "source": [
    "param_data_df = pd.read_csv(CSV_FILE)"
   ]
  },
  {
   "cell_type": "code",
   "execution_count": 164,
   "id": "8f99a296",
   "metadata": {
    "collapsed": true
   },
   "outputs": [
    {
     "data": {
      "text/html": [
       "<div>\n",
       "<style scoped>\n",
       "    .dataframe tbody tr th:only-of-type {\n",
       "        vertical-align: middle;\n",
       "    }\n",
       "\n",
       "    .dataframe tbody tr th {\n",
       "        vertical-align: top;\n",
       "    }\n",
       "\n",
       "    .dataframe thead th {\n",
       "        text-align: right;\n",
       "    }\n",
       "</style>\n",
       "<table border=\"1\" class=\"dataframe\">\n",
       "  <thead>\n",
       "    <tr style=\"text-align: right;\">\n",
       "      <th></th>\n",
       "      <th>Month</th>\n",
       "      <th>Price</th>\n",
       "    </tr>\n",
       "  </thead>\n",
       "  <tbody>\n",
       "    <tr>\n",
       "      <th>0</th>\n",
       "      <td>Apr-24</td>\n",
       "      <td>28.30</td>\n",
       "    </tr>\n",
       "    <tr>\n",
       "      <th>1</th>\n",
       "      <td>May-24</td>\n",
       "      <td>28.40</td>\n",
       "    </tr>\n",
       "    <tr>\n",
       "      <th>2</th>\n",
       "      <td>Jun-24</td>\n",
       "      <td>28.50</td>\n",
       "    </tr>\n",
       "    <tr>\n",
       "      <th>3</th>\n",
       "      <td>Jul-24</td>\n",
       "      <td>28.60</td>\n",
       "    </tr>\n",
       "    <tr>\n",
       "      <th>4</th>\n",
       "      <td>Aug-24</td>\n",
       "      <td>28.95</td>\n",
       "    </tr>\n",
       "    <tr>\n",
       "      <th>5</th>\n",
       "      <td>Sep-24</td>\n",
       "      <td>29.50</td>\n",
       "    </tr>\n",
       "    <tr>\n",
       "      <th>6</th>\n",
       "      <td>Oct-24</td>\n",
       "      <td>30.50</td>\n",
       "    </tr>\n",
       "    <tr>\n",
       "      <th>7</th>\n",
       "      <td>Nov-24</td>\n",
       "      <td>33.20</td>\n",
       "    </tr>\n",
       "    <tr>\n",
       "      <th>8</th>\n",
       "      <td>Dec-24</td>\n",
       "      <td>34.40</td>\n",
       "    </tr>\n",
       "    <tr>\n",
       "      <th>9</th>\n",
       "      <td>Jan-25</td>\n",
       "      <td>34.60</td>\n",
       "    </tr>\n",
       "    <tr>\n",
       "      <th>10</th>\n",
       "      <td>Feb-25</td>\n",
       "      <td>34.70</td>\n",
       "    </tr>\n",
       "    <tr>\n",
       "      <th>11</th>\n",
       "      <td>Mar-25</td>\n",
       "      <td>34.20</td>\n",
       "    </tr>\n",
       "    <tr>\n",
       "      <th>12</th>\n",
       "      <td>Apr-25</td>\n",
       "      <td>32.40</td>\n",
       "    </tr>\n",
       "    <tr>\n",
       "      <th>13</th>\n",
       "      <td>May-25</td>\n",
       "      <td>31.90</td>\n",
       "    </tr>\n",
       "    <tr>\n",
       "      <th>14</th>\n",
       "      <td>Jun-25</td>\n",
       "      <td>31.40</td>\n",
       "    </tr>\n",
       "    <tr>\n",
       "      <th>15</th>\n",
       "      <td>Jul-25</td>\n",
       "      <td>31.50</td>\n",
       "    </tr>\n",
       "    <tr>\n",
       "      <th>16</th>\n",
       "      <td>Aug-25</td>\n",
       "      <td>31.70</td>\n",
       "    </tr>\n",
       "    <tr>\n",
       "      <th>17</th>\n",
       "      <td>Sep-25</td>\n",
       "      <td>31.90</td>\n",
       "    </tr>\n",
       "    <tr>\n",
       "      <th>18</th>\n",
       "      <td>Oct-25</td>\n",
       "      <td>32.50</td>\n",
       "    </tr>\n",
       "    <tr>\n",
       "      <th>19</th>\n",
       "      <td>Nov-25</td>\n",
       "      <td>33.50</td>\n",
       "    </tr>\n",
       "    <tr>\n",
       "      <th>20</th>\n",
       "      <td>Dec-25</td>\n",
       "      <td>34.75</td>\n",
       "    </tr>\n",
       "    <tr>\n",
       "      <th>21</th>\n",
       "      <td>Jan-26</td>\n",
       "      <td>35.00</td>\n",
       "    </tr>\n",
       "    <tr>\n",
       "      <th>22</th>\n",
       "      <td>Feb-26</td>\n",
       "      <td>35.20</td>\n",
       "    </tr>\n",
       "    <tr>\n",
       "      <th>23</th>\n",
       "      <td>Mar-26</td>\n",
       "      <td>34.70</td>\n",
       "    </tr>\n",
       "    <tr>\n",
       "      <th>24</th>\n",
       "      <td>NaN</td>\n",
       "      <td>NaN</td>\n",
       "    </tr>\n",
       "    <tr>\n",
       "      <th>25</th>\n",
       "      <td>Max Withdrawal Rate</td>\n",
       "      <td>50.00</td>\n",
       "    </tr>\n",
       "    <tr>\n",
       "      <th>26</th>\n",
       "      <td>Min Injection Rate</td>\n",
       "      <td>30.00</td>\n",
       "    </tr>\n",
       "    <tr>\n",
       "      <th>27</th>\n",
       "      <td>Minimum Inventory</td>\n",
       "      <td>700.00</td>\n",
       "    </tr>\n",
       "    <tr>\n",
       "      <th>28</th>\n",
       "      <td>Maximum Inventory</td>\n",
       "      <td>4000.00</td>\n",
       "    </tr>\n",
       "    <tr>\n",
       "      <th>29</th>\n",
       "      <td>Current Inventory</td>\n",
       "      <td>750.00</td>\n",
       "    </tr>\n",
       "    <tr>\n",
       "      <th>30</th>\n",
       "      <td>Injection Cost</td>\n",
       "      <td>0.55</td>\n",
       "    </tr>\n",
       "    <tr>\n",
       "      <th>31</th>\n",
       "      <td>Withdrawal Cost</td>\n",
       "      <td>1.40</td>\n",
       "    </tr>\n",
       "  </tbody>\n",
       "</table>\n",
       "</div>"
      ],
      "text/plain": [
       "                  Month    Price\n",
       "0                Apr-24    28.30\n",
       "1                May-24    28.40\n",
       "2                Jun-24    28.50\n",
       "3                Jul-24    28.60\n",
       "4                Aug-24    28.95\n",
       "5                Sep-24    29.50\n",
       "6                Oct-24    30.50\n",
       "7                Nov-24    33.20\n",
       "8                Dec-24    34.40\n",
       "9                Jan-25    34.60\n",
       "10               Feb-25    34.70\n",
       "11               Mar-25    34.20\n",
       "12               Apr-25    32.40\n",
       "13               May-25    31.90\n",
       "14               Jun-25    31.40\n",
       "15               Jul-25    31.50\n",
       "16               Aug-25    31.70\n",
       "17               Sep-25    31.90\n",
       "18               Oct-25    32.50\n",
       "19               Nov-25    33.50\n",
       "20               Dec-25    34.75\n",
       "21               Jan-26    35.00\n",
       "22               Feb-26    35.20\n",
       "23               Mar-26    34.70\n",
       "24                  NaN      NaN\n",
       "25  Max Withdrawal Rate    50.00\n",
       "26   Min Injection Rate    30.00\n",
       "27    Minimum Inventory   700.00\n",
       "28    Maximum Inventory  4000.00\n",
       "29    Current Inventory   750.00\n",
       "30       Injection Cost     0.55\n",
       "31      Withdrawal Cost     1.40"
      ]
     },
     "execution_count": 164,
     "metadata": {},
     "output_type": "execute_result"
    }
   ],
   "source": [
    "param_data_df"
   ]
  },
  {
   "cell_type": "code",
   "execution_count": 264,
   "id": "bdce4f88",
   "metadata": {},
   "outputs": [
    {
     "name": "stdout",
     "output_type": "stream",
     "text": [
      "Price Data:\n",
      "     Month  Price\n",
      "0   Apr-24  28.30\n",
      "1   May-24  28.40\n",
      "2   Jun-24  28.50\n",
      "3   Jul-24  28.60\n",
      "4   Aug-24  28.95\n",
      "5   Sep-24  29.50\n",
      "6   Oct-24  30.50\n",
      "7   Nov-24  33.20\n",
      "8   Dec-24  34.40\n",
      "9   Jan-25  34.60\n",
      "10  Feb-25  34.70\n",
      "11  Mar-25  34.20\n",
      "12  Apr-25  32.40\n",
      "13  May-25  31.90\n",
      "14  Jun-25  31.40\n",
      "15  Jul-25  31.50\n",
      "16  Aug-25  31.70\n",
      "17  Sep-25  31.90\n",
      "18  Oct-25  32.50\n",
      "19  Nov-25  33.50\n",
      "20  Dec-25  34.75\n",
      "21  Jan-26  35.00\n",
      "22  Feb-26  35.20\n",
      "23  Mar-26  34.70\n",
      "\n",
      "Parameters:\n",
      "Max Withdrawal Rate: 50.0\n",
      "Min Injection Rate: 30.0\n",
      "Minimum Inventory: 700.0\n",
      "Maximum Inventory: 4000.0\n",
      "Current Inventory: 750.0\n",
      "Injection Cost: 0.55\n",
      "Withdrawal Cost: 1.4\n"
     ]
    }
   ],
   "source": [
    "price_data = param_data_df[param_data_df['Price'].notna() & param_data_df['Month'].str.contains('-', na=False)]\n",
    "\n",
    "# Clean up non-price data and extract parameters\n",
    "parameters = param_data_df[param_data_df['Price'].notna() & ~param_data_df['Month'].str.contains('-', na=False)]\n",
    "\n",
    "# Convert parameters into a dictionary for easy access\n",
    "params_dict = parameters.set_index('Month')['Price'].to_dict()\n",
    "\n",
    "# Display results\n",
    "print(\"Price Data:\")\n",
    "print(price_data)\n",
    "print(\"\\nParameters:\")\n",
    "for key, value in params_dict.items():\n",
    "    print(f\"{key}: {value}\")"
   ]
  },
  {
   "cell_type": "code",
   "execution_count": 265,
   "id": "b727f4eb",
   "metadata": {},
   "outputs": [
    {
     "data": {
      "text/plain": [
       "{'Max Withdrawal Rate': 50.0,\n",
       " 'Min Injection Rate': 30.0,\n",
       " 'Minimum Inventory': 700.0,\n",
       " 'Maximum Inventory': 4000.0,\n",
       " 'Current Inventory': 750.0,\n",
       " 'Injection Cost': 0.55,\n",
       " 'Withdrawal Cost': 1.4}"
      ]
     },
     "execution_count": 265,
     "metadata": {},
     "output_type": "execute_result"
    }
   ],
   "source": [
    "params_dict"
   ]
  },
  {
   "cell_type": "markdown",
   "id": "8eca2f82",
   "metadata": {},
   "source": [
    "### Summary Statistics"
   ]
  },
  {
   "cell_type": "code",
   "execution_count": 266,
   "id": "22867d6c",
   "metadata": {},
   "outputs": [
    {
     "name": "stdout",
     "output_type": "stream",
     "text": [
      "count    24.000000\n",
      "mean     32.095833\n",
      "std       2.392057\n",
      "min      28.300000\n",
      "25%      30.250000\n",
      "50%      32.150000\n",
      "75%      34.450000\n",
      "max      35.200000\n",
      "Name: Price, dtype: float64\n"
     ]
    }
   ],
   "source": [
    "summary_stats = price_data['Price'].describe()\n",
    "print(summary_stats)"
   ]
  },
  {
   "cell_type": "markdown",
   "id": "bff2ae4b",
   "metadata": {},
   "source": [
    "## Forward Curve"
   ]
  },
  {
   "cell_type": "markdown",
   "id": "131f3a8d",
   "metadata": {},
   "source": [
    "### Initial plotting of prices"
   ]
  },
  {
   "cell_type": "code",
   "execution_count": 268,
   "id": "cb6dba88",
   "metadata": {},
   "outputs": [
    {
     "data": {
      "image/png": "[encoded data removed]",
      "text/plain": [
       "<Figure size 1000x500 with 1 Axes>"
      ]
     },
     "metadata": {},
     "output_type": "display_data"
    }
   ],
   "source": [
    "# Make a deep copy of the price dataframe for plotting purposes\n",
    "price_data_df = price_data.copy(deep=True)\n",
    "\n",
    "# Convert 'Month' to datetime format\n",
    "price_data_df['Month'] = pd.to_datetime(price_data_df['Month'], format='%b-%y')\n",
    "\n",
    "# Set 'Month' as the DataFrame index\n",
    "price_data_df.set_index('Month', inplace=True)\n",
    "\n",
    "# Plotting\n",
    "plt.figure(figsize=(10,5))\n",
    "plt.plot(price_data_df.index, price_data_df['Price'], marker='o')\n",
    "plt.title('Monthly Gas Prices ($)')  # Title of the plot\n",
    "plt.xlabel('Month')  # X-axis label\n",
    "plt.ylabel('Price')  # Y-axis label\n",
    "\n",
    "# Improve x-tick appearance\n",
    "plt.gca().xaxis.set_major_locator(mdates.MonthLocator(interval=1))  # Set major ticks to show every month\n",
    "plt.gca().xaxis.set_major_formatter(mdates.DateFormatter('%b-%y'))  # Format the date display\n",
    "plt.xticks(price_data_df.index, rotation=90)  # Rotate x-axis labels for better readability\n",
    "\n",
    "plt.grid(True)  # Turn the grid on\n",
    "plt.tight_layout()  # Adjust layout to not cut off elements\n",
    "plt.show()  # Display the plot"
   ]
  },
  {
   "cell_type": "markdown",
   "id": "b420e777",
   "metadata": {},
   "source": [
    "### Daily Granularity\n",
    "\n",
    "Since we want to model the behaviour of the gas storage facility with daily granularity, we reconfigure our forward curve as stepwise function so that we have one price per month for all days of the month.  We have price 28.30 for all of the days within the month of April.  "
   ]
  },
  {
   "cell_type": "code",
   "execution_count": 10,
   "id": "e7bbd6af",
   "metadata": {
    "collapsed": true
   },
   "outputs": [
    {
     "data": {
      "text/plain": [
       "[28.3,\n",
       " 28.4,\n",
       " 28.5,\n",
       " 28.6,\n",
       " 28.95,\n",
       " 29.5,\n",
       " 30.5,\n",
       " 33.2,\n",
       " 34.4,\n",
       " 34.6,\n",
       " 34.7,\n",
       " 34.2,\n",
       " 32.4,\n",
       " 31.9,\n",
       " 31.4,\n",
       " 31.5,\n",
       " 31.7,\n",
       " 31.9,\n",
       " 32.5,\n",
       " 33.5,\n",
       " 34.75,\n",
       " 35.0,\n",
       " 35.2,\n",
       " 34.7]"
      ]
     },
     "execution_count": 10,
     "metadata": {},
     "output_type": "execute_result"
    }
   ],
   "source": [
    "list(price_data_df['Price'])"
   ]
  },
  {
   "cell_type": "code",
   "execution_count": 269,
   "id": "d4e9ad20",
   "metadata": {},
   "outputs": [
    {
     "data": {
      "image/png": "[encoded data removed]",
      "text/plain": [
       "<Figure size 1000x500 with 1 Axes>"
      ]
     },
     "metadata": {},
     "output_type": "display_data"
    }
   ],
   "source": [
    "monthly_index = pd.period_range(start='2024-04-01', periods=24, freq='M')\n",
    "fwd_curve = pd.Series(data = list(price_data_df['Price']), index=monthly_index).resample('D').fillna('pad')\n",
    "plt.figure(figsize=(10,5))\n",
    "fwd_curve.plot(title='Forward Curve with Daily Granularity')\n",
    "\n",
    "plt.gca().xaxis.set_major_locator(mdates.MonthLocator(interval=1))  # Set major ticks to show every month\n",
    "plt.gca().xaxis.set_major_formatter(mdates.DateFormatter('%b-%y'))  # Format the date display\n",
    "plt.xticks(rotation=90)\n",
    "plt.ylabel('Price')  # Y-axis label\n",
    "\n",
    "plt.grid(True)  # Turn the grid on\n",
    "plt.tight_layout()  # Adjust layout to not cut off elements\n",
    "\n"
   ]
  },
  {
   "cell_type": "markdown",
   "id": "27684491",
   "metadata": {},
   "source": [
    "# Modelling"
   ]
  },
  {
   "cell_type": "markdown",
   "id": "8d8bdd97",
   "metadata": {},
   "source": [
    "## Creating Storage Instance\n",
    "\n",
    "Note that given we have data for the forward curve from April 2024 to March 2026, we set 2026-03-30 to be the last possible day any action can be taken and thus the terminal storage npv is calculated on 2026-03-31. "
   ]
  },
  {
   "cell_type": "code",
   "execution_count": 270,
   "id": "c03aa93f",
   "metadata": {},
   "outputs": [
    {
     "data": {
      "text/plain": [
       "'\\nNote in the above that from the param .csv file provided, we were given the min injection rate.\\nWe have assumed that this was a typo and specified this as the max injection rate instead, as required\\nby the CmdtyStorage class.\\n'"
      ]
     },
     "execution_count": 270,
     "metadata": {},
     "output_type": "execute_result"
    }
   ],
   "source": [
    "storage_simple = CmdtyStorage(\n",
    "    freq = 'D',\n",
    "    storage_start = '2024-04-01',\n",
    "    storage_end = '2026-03-31',\n",
    "    injection_cost = params_dict['Injection Cost'],\n",
    "    withdrawal_cost = params_dict['Withdrawal Cost'],\n",
    "    min_inventory = params_dict['Minimum Inventory'],\n",
    "    max_inventory = params_dict['Maximum Inventory'],\n",
    "    max_withdrawal_rate = params_dict[\"Max Withdrawal Rate\"], \n",
    "    max_injection_rate = params_dict[\"Min Injection Rate\"],\n",
    "    terminal_storage_npv = lambda spot_price, inventory: 0.97 * spot_price * inventory\n",
    ")\n",
    "\n",
    "\"\"\"\n",
    "Note in the above that from the param .csv file provided, we were given the min injection rate.\n",
    "We have assumed that this was a typo and specified this as the max injection rate instead, as required\n",
    "by the CmdtyStorage class.\n",
    "\"\"\" \n"
   ]
  },
  {
   "cell_type": "markdown",
   "id": "3dd162b4",
   "metadata": {},
   "source": [
    "## Other Model Inputs"
   ]
  },
  {
   "cell_type": "code",
   "execution_count": 271,
   "id": "d61b4db6",
   "metadata": {},
   "outputs": [],
   "source": [
    "# Settlement Rule\n",
    "def settlement_rule(delivery_date):\n",
    "    return delivery_date.asfreq('M').asfreq('D', 'end') + 20"
   ]
  },
  {
   "cell_type": "code",
   "execution_count": 272,
   "id": "356ba567",
   "metadata": {},
   "outputs": [],
   "source": [
    "sim_data_returned = SimulationDataReturned.SPOT_VALUATION | SimulationDataReturned.FACTORS_REGRESS"
   ]
  },
  {
   "cell_type": "markdown",
   "id": "8d22bea1",
   "metadata": {},
   "source": [
    "### Interest Rate Curve\n",
    "\n",
    "We use the latest treasury yield rates as of 7/05/2024 to construct an interpolated curve for use in the model"
   ]
  },
  {
   "cell_type": "code",
   "execution_count": 273,
   "id": "29d388b7",
   "metadata": {},
   "outputs": [
    {
     "data": {
      "text/plain": [
       "<Axes: title={'center': 'Interest Rate Curve'}>"
      ]
     },
     "execution_count": 273,
     "metadata": {},
     "output_type": "execute_result"
    },
    {
     "data": {
      "image/png": "[encoded data removed]",
      "text/plain": [
       "<Figure size 640x480 with 1 Axes>"
      ]
     },
     "metadata": {},
     "output_type": "display_data"
    }
   ],
   "source": [
    "rates = [0.005372, 0.005395, 0.005366, 0.005136, 0.004812]\n",
    "rates_pillars = pd.PeriodIndex(freq='D', data=['2024-04-01', '2024-07-01', '2024-10-01',\n",
    "                                              '2025-04-01', '2026-05-01'])\n",
    "ir_curve = pd.Series(data=rates, index=rates_pillars).resample('D').asfreq('D').interpolate(method='linear')\n",
    "ir_curve.plot(title='Interest Rate Curve')"
   ]
  },
  {
   "cell_type": "code",
   "execution_count": 274,
   "id": "76c1196b",
   "metadata": {},
   "outputs": [],
   "source": [
    "val_date = '2024-04-01'\n",
    "inventory=750\n",
    "discount_deltas = True"
   ]
  },
  {
   "cell_type": "code",
   "execution_count": 275,
   "id": "6a0c84fe",
   "metadata": {},
   "outputs": [],
   "source": [
    "num_sims = 500\n",
    "seed = 12\n",
    "fwd_sim_seed = 25"
   ]
  },
  {
   "cell_type": "markdown",
   "id": "9196acf9",
   "metadata": {},
   "source": [
    "## Calibration"
   ]
  },
  {
   "cell_type": "markdown",
   "id": "770fb015",
   "metadata": {},
   "source": [
    "### Three Factor Seasonal Commodity Price Process\n",
    "\n",
    "In the below, we use the three-factor commodity price process developed by Jake C. Fowler.  The model requires 4 parameters, which can be drawn from historical data.  Since we do not have access to historical data, we instead use the data estimated from historical Dutch TTF prices in https://energyquants.com/assets/uploads/files/publications/boogert%20de%20jong%20gas%20storage%20multifactor.pdf"
   ]
  },
  {
   "cell_type": "code",
   "execution_count": 276,
   "id": "96c1b00b",
   "metadata": {},
   "outputs": [],
   "source": [
    "spot_mean_reversion = 12\n",
    "spot_vol = 1\n",
    "long_term_vol = 0.2\n",
    "seasonal_vol = 0.2"
   ]
  },
  {
   "cell_type": "markdown",
   "id": "87f5d175",
   "metadata": {},
   "source": [
    "### Basis Functions\n",
    "\n",
    "We decided to use the same basis functiona as Fowler uses in the library docs.  These are verified to be good candidates in the literature."
   ]
  },
  {
   "cell_type": "code",
   "execution_count": 178,
   "id": "bae531d8",
   "metadata": {},
   "outputs": [],
   "source": [
    "three_factor_basis_functions = '1 + x_st + x_sw + x_lt + s + x_st**2 + x_sw**2 + x_lt**2 + s**2 + s * x_st'"
   ]
  },
  {
   "cell_type": "markdown",
   "id": "3c1458d7",
   "metadata": {},
   "source": [
    "## Calling the Three Factor Seasonal Model"
   ]
  },
  {
   "cell_type": "code",
   "execution_count": 93,
   "id": "eb491b0b",
   "metadata": {},
   "outputs": [],
   "source": [
    "three_factor_results = three_factor_seasonal_value(\n",
    "    cmdty_storage = storage_simple,\n",
    "    val_date = val_date,\n",
    "    inventory = inventory,\n",
    "    fwd_curve = fwd_curve,\n",
    "    interest_rates = ir_curve,\n",
    "    settlement_rule = settlement_rule,\n",
    "    discount_deltas = discount_deltas,\n",
    "    num_sims = num_sims,\n",
    "    spot_mean_reversion = spot_mean_reversion,\n",
    "    spot_vol = spot_vol,\n",
    "    long_term_vol = long_term_vol,\n",
    "    seasonal_vol = seasonal_vol,\n",
    "    basis_funcs = three_factor_basis_functions,\n",
    "    sim_data_returned = sim_data_returned,\n",
    "    seed = seed,\n",
    "    fwd_sim_seed = fwd_sim_seed,\n",
    ")"
   ]
  },
  {
   "cell_type": "code",
   "execution_count": 95,
   "id": "f6f8e71c",
   "metadata": {},
   "outputs": [
    {
     "name": "stdout",
     "output_type": "stream",
     "text": [
      "Full NPV:\t19,473,308\n",
      "Intrinsic NPV: \t44,350\n",
      "Extrinsic NPV: \t19,428,958\n"
     ]
    }
   ],
   "source": [
    "print('Full NPV:\\t{0:,.0f}'.format(three_factor_results.npv))\n",
    "print('Intrinsic NPV: \\t{0:,.0f}'.format(three_factor_results.intrinsic_npv))\n",
    "print('Extrinsic NPV: \\t{0:,.0f}'.format(three_factor_results.extrinsic_npv))"
   ]
  },
  {
   "cell_type": "code",
   "execution_count": 304,
   "id": "8f81b755",
   "metadata": {},
   "outputs": [
    {
     "data": {
      "text/html": [
       "<div>\n",
       "<style scoped>\n",
       "    .dataframe tbody tr th:only-of-type {\n",
       "        vertical-align: middle;\n",
       "    }\n",
       "\n",
       "    .dataframe tbody tr th {\n",
       "        vertical-align: top;\n",
       "    }\n",
       "\n",
       "    .dataframe thead th {\n",
       "        text-align: right;\n",
       "    }\n",
       "</style>\n",
       "<table border=\"1\" class=\"dataframe\">\n",
       "  <thead>\n",
       "    <tr style=\"text-align: right;\">\n",
       "      <th></th>\n",
       "      <th>inject_volume</th>\n",
       "      <th>inject_trigger_price</th>\n",
       "      <th>withdraw_volume</th>\n",
       "      <th>withdraw_trigger_price</th>\n",
       "    </tr>\n",
       "  </thead>\n",
       "  <tbody>\n",
       "    <tr>\n",
       "      <th>2024-04-01</th>\n",
       "      <td>30.0</td>\n",
       "      <td>30.488489</td>\n",
       "      <td>-50.0</td>\n",
       "      <td>32.447845</td>\n",
       "    </tr>\n",
       "    <tr>\n",
       "      <th>2024-04-02</th>\n",
       "      <td>30.0</td>\n",
       "      <td>30.490031</td>\n",
       "      <td>-50.0</td>\n",
       "      <td>32.436616</td>\n",
       "    </tr>\n",
       "    <tr>\n",
       "      <th>2024-04-03</th>\n",
       "      <td>30.0</td>\n",
       "      <td>30.496226</td>\n",
       "      <td>-50.0</td>\n",
       "      <td>32.461713</td>\n",
       "    </tr>\n",
       "    <tr>\n",
       "      <th>2024-04-04</th>\n",
       "      <td>30.0</td>\n",
       "      <td>30.545165</td>\n",
       "      <td>-50.0</td>\n",
       "      <td>32.502136</td>\n",
       "    </tr>\n",
       "    <tr>\n",
       "      <th>2024-04-05</th>\n",
       "      <td>30.0</td>\n",
       "      <td>30.586765</td>\n",
       "      <td>-50.0</td>\n",
       "      <td>32.534110</td>\n",
       "    </tr>\n",
       "    <tr>\n",
       "      <th>2024-04-06</th>\n",
       "      <td>30.0</td>\n",
       "      <td>30.530595</td>\n",
       "      <td>-50.0</td>\n",
       "      <td>32.578326</td>\n",
       "    </tr>\n",
       "    <tr>\n",
       "      <th>2024-04-07</th>\n",
       "      <td>30.0</td>\n",
       "      <td>30.483813</td>\n",
       "      <td>-50.0</td>\n",
       "      <td>32.554417</td>\n",
       "    </tr>\n",
       "    <tr>\n",
       "      <th>2024-04-08</th>\n",
       "      <td>30.0</td>\n",
       "      <td>30.548451</td>\n",
       "      <td>-50.0</td>\n",
       "      <td>32.501800</td>\n",
       "    </tr>\n",
       "    <tr>\n",
       "      <th>2024-04-09</th>\n",
       "      <td>30.0</td>\n",
       "      <td>30.403197</td>\n",
       "      <td>-50.0</td>\n",
       "      <td>32.407518</td>\n",
       "    </tr>\n",
       "    <tr>\n",
       "      <th>2024-04-10</th>\n",
       "      <td>30.0</td>\n",
       "      <td>30.513787</td>\n",
       "      <td>-50.0</td>\n",
       "      <td>32.499198</td>\n",
       "    </tr>\n",
       "  </tbody>\n",
       "</table>\n",
       "</div>"
      ],
      "text/plain": [
       "            inject_volume  inject_trigger_price  withdraw_volume  \\\n",
       "2024-04-01           30.0             30.488489            -50.0   \n",
       "2024-04-02           30.0             30.490031            -50.0   \n",
       "2024-04-03           30.0             30.496226            -50.0   \n",
       "2024-04-04           30.0             30.545165            -50.0   \n",
       "2024-04-05           30.0             30.586765            -50.0   \n",
       "2024-04-06           30.0             30.530595            -50.0   \n",
       "2024-04-07           30.0             30.483813            -50.0   \n",
       "2024-04-08           30.0             30.548451            -50.0   \n",
       "2024-04-09           30.0             30.403197            -50.0   \n",
       "2024-04-10           30.0             30.513787            -50.0   \n",
       "\n",
       "            withdraw_trigger_price  \n",
       "2024-04-01               32.447845  \n",
       "2024-04-02               32.436616  \n",
       "2024-04-03               32.461713  \n",
       "2024-04-04               32.502136  \n",
       "2024-04-05               32.534110  \n",
       "2024-04-06               32.578326  \n",
       "2024-04-07               32.554417  \n",
       "2024-04-08               32.501800  \n",
       "2024-04-09               32.407518  \n",
       "2024-04-10               32.499198  "
      ]
     },
     "metadata": {},
     "output_type": "display_data"
    }
   ],
   "source": [
    "display(three_factor_results.trigger_prices[0:10])"
   ]
  },
  {
   "cell_type": "code",
   "execution_count": 233,
   "id": "d647d3be",
   "metadata": {},
   "outputs": [],
   "source": [
    "three_sim_spot_valuation_mean = three_factor_results.sim_spot_valuation.aggregate(func='mean', axis='columns')\n",
    "three_sim_spot_valuation_90th = three_factor_results.sim_spot_valuation.aggregate(func=np.percentile, q=90, axis='columns')\n",
    "three_sim_spot_valuation_10h = three_factor_results.sim_spot_valuation.aggregate(func=np.percentile, q=10, axis='columns')"
   ]
  },
  {
   "cell_type": "code",
   "execution_count": 308,
   "id": "165adf89",
   "metadata": {},
   "outputs": [
    {
     "name": "stderr",
     "output_type": "stream",
     "text": [
      "2024-05-09 21:47:58.367 python[50115:4697266] +[CATransaction synchronize] called within transaction\n",
      "2024-05-09 21:48:06.233 python[50115:4697266] +[CATransaction synchronize] called within transaction\n",
      "2024-05-09 21:48:07.323 python[50115:4697266] +[CATransaction synchronize] called within transaction\n",
      "2024-05-09 21:48:07.589 python[50115:4697266] +[CATransaction synchronize] called within transaction\n"
     ]
    }
   ],
   "source": [
    "fig, (ax1, ax2, ax3) = plt.subplots(3, 1, figsize=(10, 15))\n",
    "\n",
    "three_factor_results.trigger_prices['inject_trigger_price'].plot(ax=ax1, legend=True)\n",
    "three_factor_results.trigger_prices['withdraw_trigger_price'].plot(ax=ax1, legend=True)\n",
    "fwd_curve['2024-04-01' : '2026-04-01'].plot(ax=ax1, legend=True)\n",
    "ax1.legend(['Inject Trigger Price', 'Withdraw Trigger', 'Forward Curve'])\n",
    "ax1.set_title('Trigger Prices Versus Forward Curve')\n",
    "ax1.grid(True)\n",
    "\n",
    "three_factor_results.expected_profile['inventory'].plot(ax=ax2, legend=True, color='green')\n",
    "ax2.set_title('Expected Inventory Profile')\n",
    "ax2.grid(True)\n",
    "\n",
    "three_sim_spot_valuation_mean.plot(ax=ax3, title='Statistics of Simulated Spot Prices', legend=True)\n",
    "fwd_curve['2024-04-01' : '2026-04-01'].plot(ax=ax3, legend=True)\n",
    "three_sim_spot_valuation_10h.plot(ax=ax3, legend=True)\n",
    "ax3 = three_sim_spot_valuation_90th.plot(ax=ax3, legend=True)\n",
    "ax3.legend(['Mean', 'Forward Curve', '10th Percentile', '90th Percentile'])\n",
    "ax3.grid(True)\n",
    "\n",
    "plt.tight_layout()\n",
    "plt.show()"
   ]
  },
  {
   "cell_type": "markdown",
   "id": "608d738b",
   "metadata": {},
   "source": [
    "## One Factor Price Model"
   ]
  },
  {
   "cell_type": "code",
   "execution_count": 297,
   "id": "624b6876",
   "metadata": {},
   "outputs": [],
   "source": [
    "def generate_1f_sims(S0, k, mu, sigma, val_date, storage_end, num_sims, seed=None):\n",
    "    \n",
    "    # Set the seed for reproducibility\n",
    "    if seed is not None:\n",
    "        np.random.seed(seed)\n",
    "    \n",
    "    start_sim = pd.Period(val_date, freq='D')\n",
    "    sim_periods = pd.period_range(start=start_sim, end=storage_end)\n",
    "    num_sim_periods = len(sim_periods)\n",
    "    sqrt_dt = np.sqrt(1/365.0)\n",
    "\n",
    "    S = np.zeros((num_sim_periods, num_sims))\n",
    "    S[0] = S0\n",
    "    for i in range(1, num_sim_periods):\n",
    "        Z = np.random.normal(loc=0.0, scale=1.0, size=num_sims)\n",
    "        dt = 1/365.0  # assuming daily steps\n",
    "        S[i] = S[i-1] * np.exp((k * (mu(sim_periods[i]) - np.log(S[i-1])) - 0.5 * sigma**2) * dt + sigma * sqrt_dt * Z)\n",
    "\n",
    "    S_data_frame = pd.DataFrame(data=S, index=sim_periods)\n",
    "\n",
    "    return S_data_frame\n",
    "\n",
    "# Example usage:\n",
    "# Define mu(t) as a function if it varies with time, or as a constant if it does not\n",
    "def mu(t): \n",
    "    return np.log(fwd_curve[t])   # mean level as ln(100), modify as needed"
   ]
  },
  {
   "cell_type": "code",
   "execution_count": 298,
   "id": "1cdc305a",
   "metadata": {},
   "outputs": [],
   "source": [
    "sim_spot_regress = generate_1f_sims(fwd_curve[0], 12, mu, 0.2, val_date, '2026-03-31', 500, seed)\n",
    "sim_spot_valuation = generate_1f_sims(fwd_curve[0], 12, mu, 0.2, val_date, '2026-03-31', 500, fwd_sim_seed)"
   ]
  },
  {
   "cell_type": "code",
   "execution_count": 292,
   "id": "4f17da60",
   "metadata": {},
   "outputs": [],
   "source": [
    "## We use the same basis functions as in Boogert and de Jong\n",
    "one_factor_basis_funcs = \"1 + x0 + x0**2 + x0**3\""
   ]
  },
  {
   "cell_type": "code",
   "execution_count": 299,
   "id": "2626ada9",
   "metadata": {},
   "outputs": [],
   "source": [
    "value_from_sims_results = value_from_sims(\n",
    "    cmdty_storage = storage_simple,\n",
    "    val_date = val_date,\n",
    "    inventory = inventory,\n",
    "    fwd_curve = fwd_curve,\n",
    "    interest_rates = ir_curve,\n",
    "    settlement_rule = settlement_rule,\n",
    "    discount_deltas = discount_deltas,\n",
    "    basis_funcs = one_factor_basis_funcs,\n",
    "    sim_data_returned = sim_data_returned,\n",
    "    sim_spot_regress = sim_spot_regress,\n",
    "    sim_spot_valuation = sim_spot_valuation,\n",
    "    sim_factors_regress = (sim_spot_regress,),\n",
    "    sim_factors_valuation = (sim_spot_valuation,)\n",
    ")"
   ]
  },
  {
   "cell_type": "code",
   "execution_count": 294,
   "id": "bde3c5a4",
   "metadata": {},
   "outputs": [],
   "source": [
    "one_sim_spot_valuation_mean = value_from_sims_results.sim_spot_valuation.aggregate(func='mean', axis='columns')\n",
    "one_sim_spot_valuation_90th = value_from_sims_results.sim_spot_valuation.aggregate(func=np.percentile, q=90, axis='columns')\n",
    "one_sim_spot_valuation_10h = value_from_sims_results.sim_spot_valuation.aggregate(func=np.percentile, q=10, axis='columns')"
   ]
  },
  {
   "cell_type": "code",
   "execution_count": 295,
   "id": "600d754f",
   "metadata": {},
   "outputs": [
    {
     "name": "stdout",
     "output_type": "stream",
     "text": [
      "Full NPV:\t24,895,207\n",
      "Intrinsic NPV: \t44,350\n",
      "Extrinsic NPV: \t24,850,856\n"
     ]
    }
   ],
   "source": [
    "print('Full NPV:\\t{0:,.0f}'.format(value_from_sims_results.npv))\n",
    "print('Intrinsic NPV: \\t{0:,.0f}'.format(value_from_sims_results.intrinsic_npv))\n",
    "print('Extrinsic NPV: \\t{0:,.0f}'.format(value_from_sims_results.extrinsic_npv))"
   ]
  },
  {
   "cell_type": "code",
   "execution_count": 310,
   "id": "e4b9a4eb",
   "metadata": {},
   "outputs": [
    {
     "name": "stderr",
     "output_type": "stream",
     "text": [
      "2024-05-09 21:48:22.247 python[50115:4697266] +[CATransaction synchronize] called within transaction\n",
      "2024-05-09 21:48:24.970 python[50115:4697266] +[CATransaction synchronize] called within transaction\n",
      "2024-05-09 21:48:26.494 python[50115:4697266] +[CATransaction synchronize] called within transaction\n",
      "2024-05-09 21:48:26.757 python[50115:4697266] +[CATransaction synchronize] called within transaction\n"
     ]
    }
   ],
   "source": [
    "fig, (ax1, ax2, ax3) = plt.subplots(3, 1, figsize=(10, 15))\n",
    "\n",
    "value_from_sims_results.trigger_prices['inject_trigger_price'].plot(ax=ax1, legend=True)\n",
    "value_from_sims_results.trigger_prices['withdraw_trigger_price'].plot(ax=ax1, legend=True)\n",
    "fwd_curve['2024-04-01' : '2026-04-01'].plot(ax=ax1, legend=True)\n",
    "ax1.legend(['Inject Trigger Price', 'Withdraw Trigger', 'Forward Curve'])\n",
    "ax1.set_title('Trigger Prices Versus Forward Curve')\n",
    "ax1.grid(True)\n",
    "\n",
    "value_from_sims_results.expected_profile['inventory'].plot(ax=ax2, legend=True, color='green')\n",
    "ax2.set_title('Expected Inventory Profile')\n",
    "ax2.grid(True)\n",
    "\n",
    "one_sim_spot_valuation_mean.plot(ax=ax3, title='Statistics of Simulated Spot Prices', legend=True)\n",
    "fwd_curve['2024-04-01' : '2026-04-01'].plot(ax=ax3, legend=True)\n",
    "one_sim_spot_valuation_10h.plot(ax=ax3, legend=True)\n",
    "ax3 = one_sim_spot_valuation_90th.plot(ax=ax3, legend=True)\n",
    "ax3.legend(['Mean', 'Forward Curve', '10th Percentile', '90th Percentile'])\n",
    "ax3.grid(True)\n",
    "\n",
    "plt.tight_layout()\n",
    "plt.show()"
   ]
  },
  {
   "cell_type": "markdown",
   "id": "eb0d299d",
   "metadata": {},
   "source": [
    "## Price model parameter adjustment\n",
    "\n",
    "In this section, we want to see how changes in the parameters (currently derived from Dutch Gas TTF market) affect the valuation of our storage facility in the three factor model.  We want to write a function which can take in the parameter and that we would like to change with an iterable of the values we would like to try.  "
   ]
  },
  {
   "cell_type": "code",
   "execution_count": 216,
   "id": "85d254c2",
   "metadata": {},
   "outputs": [],
   "source": [
    "def simulate_price_model_parameter_effects(param_name, param_values, fixed_params):\n",
    "    results = []\n",
    "    for val in param_values:\n",
    "        print(f\"Simulating three factor model with default params, and {param_name} = {val}...\")\n",
    "        # Prepare parameters, updating the variable one\n",
    "        params = fixed_params.copy()\n",
    "        params[param_name] = val\n",
    "\n",
    "        # Call the original function with updated parameters\n",
    "        result = three_factor_seasonal_value(\n",
    "            cmdty_storage=params['cmdty_storage'],\n",
    "            val_date=params['val_date'],\n",
    "            inventory=params['inventory'],\n",
    "            fwd_curve=params['fwd_curve'],\n",
    "            interest_rates=params['interest_rates'],\n",
    "            settlement_rule=params['settlement_rule'],\n",
    "            discount_deltas=params['discount_deltas'],\n",
    "            num_sims=params['num_sims'],\n",
    "            spot_mean_reversion=params['spot_mean_reversion'],\n",
    "            spot_vol=params['spot_vol'],\n",
    "            long_term_vol=params['long_term_vol'],\n",
    "            seasonal_vol=params['seasonal_vol'],\n",
    "            basis_funcs=params['basis_funcs'],\n",
    "            sim_data_returned=params['sim_data_returned'],\n",
    "            seed=params['seed'],\n",
    "            fwd_sim_seed=params['fwd_sim_seed']\n",
    "        )\n",
    "        results.append(result.npv if hasattr(result, 'npv') else result)\n",
    "    return results"
   ]
  },
  {
   "cell_type": "code",
   "execution_count": 187,
   "id": "e630e144",
   "metadata": {},
   "outputs": [],
   "source": [
    "# Fixed parameters setup\n",
    "fixed_params = {\n",
    "    'cmdty_storage': storage_simple,\n",
    "    'val_date': val_date,\n",
    "    'inventory': inventory,\n",
    "    'fwd_curve': fwd_curve,\n",
    "    'interest_rates': ir_curve,\n",
    "    'settlement_rule': settlement_rule,\n",
    "    'discount_deltas': discount_deltas,\n",
    "    'num_sims': num_sims,\n",
    "    'spot_mean_reversion': spot_mean_reversion, # Default spot mean reversion, can be overwritten\n",
    "    'spot_vol': spot_vol,  # Default spot vol, can be overwritten\n",
    "    'long_term_vol': long_term_vol,  # Default long-term vol, can be overwritten\n",
    "    'seasonal_vol': seasonal_vol, # Default seasonal vol, can be overwritten\n",
    "    'basis_funcs': three_factor_basis_functions,\n",
    "    'sim_data_returned': sim_data_returned,\n",
    "    'seed': seed,\n",
    "    'fwd_sim_seed': fwd_sim_seed\n",
    "}"
   ]
  },
  {
   "cell_type": "code",
   "execution_count": 192,
   "id": "10f8717a",
   "metadata": {
    "collapsed": true
   },
   "outputs": [
    {
     "name": "stdout",
     "output_type": "stream",
     "text": [
      "Simulating three factor model with default params, and spot_mean_reversion = 5...\n",
      "Simulating three factor model with default params, and spot_mean_reversion = 12...\n",
      "Simulating three factor model with default params, and spot_mean_reversion = 20...\n",
      "Simulating three factor model with default params, and spot_mean_reversion = 50...\n",
      "Simulating three factor model with default params, and spot_mean_reversion = 100...\n"
     ]
    }
   ],
   "source": [
    "# Simulate changing spot mean reversion\n",
    "spot_mean_reversions = [5, 12, 20, 50, 100]\n",
    "spot_mean_reversion_results = simulate_price_model_parameter_effects('spot_mean_reversion', spot_mean_reversions, fixed_params)"
   ]
  },
  {
   "cell_type": "code",
   "execution_count": 193,
   "id": "9e73b476",
   "metadata": {
    "collapsed": true
   },
   "outputs": [
    {
     "name": "stdout",
     "output_type": "stream",
     "text": [
      "Simulating three factor model with default params, and spot_vol = 0.4...\n",
      "Simulating three factor model with default params, and spot_vol = 0.6000000000000001...\n",
      "Simulating three factor model with default params, and spot_vol = 0.8000000000000002...\n",
      "Simulating three factor model with default params, and spot_vol = 1.0000000000000002...\n",
      "Simulating three factor model with default params, and spot_vol = 1.2000000000000002...\n",
      "Simulating three factor model with default params, and spot_vol = 1.4000000000000004...\n",
      "Simulating three factor model with default params, and spot_vol = 1.6000000000000005...\n"
     ]
    }
   ],
   "source": [
    "# Simulate changing spot volatility\n",
    "spot_vols = np.arange(0.4, 1.6, 0.2)\n",
    "spot_vol_results = simulate_price_model_parameter_effects('spot_vol', spot_vols, fixed_params)"
   ]
  },
  {
   "cell_type": "code",
   "execution_count": 196,
   "id": "132986ef",
   "metadata": {
    "collapsed": true
   },
   "outputs": [
    {
     "name": "stdout",
     "output_type": "stream",
     "text": [
      "Simulating three factor model with default params, and long_term_vol = 0.12...\n",
      "Simulating three factor model with default params, and long_term_vol = 0.13999999999999999...\n",
      "Simulating three factor model with default params, and long_term_vol = 0.15999999999999998...\n",
      "Simulating three factor model with default params, and long_term_vol = 0.17999999999999997...\n",
      "Simulating three factor model with default params, and long_term_vol = 0.19999999999999996...\n",
      "Simulating three factor model with default params, and long_term_vol = 0.21999999999999995...\n",
      "Simulating three factor model with default params, and long_term_vol = 0.23999999999999994...\n",
      "Simulating three factor model with default params, and long_term_vol = 0.2599999999999999...\n",
      "Simulating three factor model with default params, and long_term_vol = 0.2799999999999999...\n"
     ]
    }
   ],
   "source": [
    "# Simulate changing long-term volatility\n",
    "long_term_vols = np.arange(0.12, 0.28, 0.02)\n",
    "long_term_vol_results = simulate_price_model_parameter_effects('long_term_vol', long_term_vols, fixed_params)"
   ]
  },
  {
   "cell_type": "code",
   "execution_count": 220,
   "id": "3d8f6fc1",
   "metadata": {},
   "outputs": [
    {
     "name": "stdout",
     "output_type": "stream",
     "text": [
      "Simulating three factor model with default params, and seasonal_vol = 0.12...\n",
      "Simulating three factor model with default params, and seasonal_vol = 0.13999999999999999...\n",
      "Simulating three factor model with default params, and seasonal_vol = 0.15999999999999998...\n",
      "Simulating three factor model with default params, and seasonal_vol = 0.17999999999999997...\n",
      "Simulating three factor model with default params, and seasonal_vol = 0.19999999999999996...\n",
      "Simulating three factor model with default params, and seasonal_vol = 0.21999999999999995...\n",
      "Simulating three factor model with default params, and seasonal_vol = 0.23999999999999994...\n",
      "Simulating three factor model with default params, and seasonal_vol = 0.2599999999999999...\n",
      "Simulating three factor model with default params, and seasonal_vol = 0.2799999999999999...\n"
     ]
    }
   ],
   "source": [
    "# Simulate changing seasonal volatility\n",
    "seasonal_vols = np.arange(0.12, 0.28, 0.02)\n",
    "seasonal_vol_results = simulate_price_model_parameter_effects('seasonal_vol', seasonal_vols, fixed_params)"
   ]
  },
  {
   "cell_type": "markdown",
   "id": "c618fb60",
   "metadata": {},
   "source": [
    "### Parameter adjustment plots"
   ]
  },
  {
   "cell_type": "code",
   "execution_count": 224,
   "id": "3900ee69",
   "metadata": {
    "scrolled": true
   },
   "outputs": [
    {
     "name": "stderr",
     "output_type": "stream",
     "text": [
      "2024-05-09 21:10:39.368 python[50115:4697266] +[CATransaction synchronize] called within transaction\n",
      "2024-05-09 21:10:54.963 python[50115:4697266] +[CATransaction synchronize] called within transaction\n",
      "2024-05-09 21:10:54.967 python[50115:4697266] +[CATransaction synchronize] called within transaction\n",
      "2024-05-09 21:10:54.988 python[50115:4697266] +[CATransaction synchronize] called within transaction\n",
      "2024-05-09 21:10:54.997 python[50115:4697266] +[CATransaction synchronize] called within transaction\n",
      "2024-05-09 21:10:55.002 python[50115:4697266] +[CATransaction synchronize] called within transaction\n",
      "2024-05-09 21:10:55.009 python[50115:4697266] +[CATransaction synchronize] called within transaction\n",
      "2024-05-09 21:10:55.050 python[50115:4697266] +[CATransaction synchronize] called within transaction\n",
      "2024-05-09 21:10:55.065 python[50115:4697266] +[CATransaction synchronize] called within transaction\n",
      "2024-05-09 21:10:55.079 python[50115:4697266] +[CATransaction synchronize] called within transaction\n",
      "2024-05-09 21:10:55.093 python[50115:4697266] +[CATransaction synchronize] called within transaction\n",
      "2024-05-09 21:10:55.103 python[50115:4697266] +[CATransaction synchronize] called within transaction\n",
      "2024-05-09 21:10:55.114 python[50115:4697266] +[CATransaction synchronize] called within transaction\n",
      "2024-05-09 21:10:55.120 python[50115:4697266] +[CATransaction synchronize] called within transaction\n",
      "2024-05-09 21:10:55.127 python[50115:4697266] +[CATransaction synchronize] called within transaction\n",
      "2024-05-09 21:10:55.134 python[50115:4697266] +[CATransaction synchronize] called within transaction\n",
      "2024-05-09 21:10:55.144 python[50115:4697266] +[CATransaction synchronize] called within transaction\n",
      "2024-05-09 21:10:55.155 python[50115:4697266] +[CATransaction synchronize] called within transaction\n",
      "2024-05-09 21:10:55.169 python[50115:4697266] +[CATransaction synchronize] called within transaction\n",
      "2024-05-09 21:10:55.183 python[50115:4697266] +[CATransaction synchronize] called within transaction\n",
      "2024-05-09 21:10:55.189 python[50115:4697266] +[CATransaction synchronize] called within transaction\n",
      "2024-05-09 21:10:55.222 python[50115:4697266] +[CATransaction synchronize] called within transaction\n",
      "2024-05-09 21:11:30.007 python[50115:4697266] +[CATransaction synchronize] called within transaction\n",
      "2024-05-09 21:11:32.022 python[50115:4697266] +[CATransaction synchronize] called within transaction\n",
      "2024-05-09 21:11:44.532 python[50115:4697266] +[CATransaction synchronize] called within transaction\n",
      "2024-05-09 21:11:44.628 python[50115:4697266] +[CATransaction synchronize] called within transaction\n",
      "2024-05-09 21:11:44.731 python[50115:4697266] +[CATransaction synchronize] called within transaction\n",
      "2024-05-09 21:11:44.835 python[50115:4697266] +[CATransaction synchronize] called within transaction\n",
      "2024-05-09 21:11:44.931 python[50115:4697266] Warning: Window move completed without beginning\n"
     ]
    }
   ],
   "source": [
    "# %matplotlib qt\n",
    "fig, axs = plt.subplots(2, 2, figsize=(10, 8))\n",
    "\n",
    "# Plotting data on each subplot\n",
    "axs[0, 0].plot(spot_mean_reversions, spot_mean_reversion_results, marker='o')\n",
    "axs[0, 0].axvline(x=12)\n",
    "axs[0, 0].set_title('Spot Mean Reversion Effects')\n",
    "axs[0, 0].set_xlabel('Mean Reversion Speed')\n",
    "axs[0, 0].set_ylabel('Storage Valuation')\n",
    "axs[0, 0].grid(True)\n",
    "\n",
    "axs[0, 1].plot(spot_vols, spot_vol_results, marker='o')\n",
    "axs[0, 1].axvline(x=1)\n",
    "axs[0, 1].set_title('Spot Volatility Effects')\n",
    "axs[0, 1].set_xlabel('Volatility')\n",
    "axs[0, 1].set_ylabel('Storage Valuation')\n",
    "axs[0, 1].grid(True)\n",
    "\n",
    "axs[1, 0].plot(long_term_vols, long_term_vol_results, marker='o')\n",
    "axs[1, 0].axvline(x=0.2)\n",
    "axs[1, 0].set_title('Long-term Volatility Effects')\n",
    "axs[1, 0].set_xlabel('Long-term Volatility')\n",
    "axs[1, 0].set_ylabel('Storage Valuation')\n",
    "axs[1, 0].grid(True)\n",
    "\n",
    "axs[1, 1].plot(seasonal_vols, seasonal_vol_results, marker='o')\n",
    "axs[1, 1].axvline(x=0.2)\n",
    "axs[1, 1].set_title('Seasonal Volatility Effects')\n",
    "axs[1, 1].set_xlabel('Seasonal Volatility')\n",
    "axs[1, 1].set_ylabel('Storage Valuation')\n",
    "axs[1, 1].grid(True)\n",
    "\n",
    "fig.suptitle('Parameter Adjustment Plots', fontsize=16)\n",
    "\n",
    "plt.tight_layout(rect=[0, 0.03, 1, 0.95])\n",
    "plt.show()"
   ]
  },
  {
   "cell_type": "code",
   "execution_count": null,
   "id": "12c9868c",
   "metadata": {},
   "outputs": [],
   "source": []
  }
 ],
 "metadata": {
  "kernelspec": {
   "display_name": "Python 3 (ipykernel)",
   "language": "python",
   "name": "python3"
  },
  "language_info": {
   "codemirror_mode": {
    "name": "ipython",
    "version": 3
   },
   "file_extension": ".py",
   "mimetype": "text/x-python",
   "name": "python",
   "nbconvert_exporter": "python",
   "pygments_lexer": "ipython3",
   "version": "3.8.11"
  }
 },
 "nbformat": 4,
 "nbformat_minor": 5
}
